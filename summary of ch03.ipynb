{
 "cells": [
  {
   "cell_type": "code",
   "execution_count": 1,
   "metadata": {},
   "outputs": [],
   "source": [
    "from scipy import linalg as la\n",
    "from scipy import optimize"
   ]
  },
  {
   "cell_type": "code",
   "execution_count": 2,
   "metadata": {},
   "outputs": [],
   "source": [
    "import sympy\n",
    "sympy.init_printing()\n",
    "from sympy import I, pi, oo\n",
    "import numpy as np\n",
    "\n",
    "import matplotlib as mpl\n",
    "import matplotlib.pyplot as plt"
   ]
  },
  {
   "cell_type": "markdown",
   "metadata": {},
   "source": [
    "#### 기호 입력하기\n",
    "\n",
    "    하나의 기호 입력:\n",
    "    x = sympy.Symbol(name(str), **assumptions(e.g. real, complex, positive, negative...)\n",
    "    \n",
    "    여러개의 기호 입력:\n",
    "    x, y...= sympy.symbols(names, **args)\n",
    "    \n",
    "    기호의 속성의 참 거짓 확인:\n",
    "    x.is_real, x.is_complex, x.is_imaginary...\n",
    "    \n",
    "    상수와 특별한 기호들: \n",
    "    [sympy.pi, sympy.E, sympy.EulerGamma, sympy.I, sympy.oo]"
   ]
  },
  {
   "cell_type": "code",
   "execution_count": 3,
   "metadata": {},
   "outputs": [],
   "source": [
    "w, x, y, z = sympy.symbols(\"w, x, y, z\", real=True,  positive=True)"
   ]
  },
  {
   "cell_type": "code",
   "execution_count": 4,
   "metadata": {},
   "outputs": [
    {
     "data": {
      "image/png": "[encoded data removed]",
      "text/latex": [
       "$\\displaystyle \\left( x_{0}, \\  x_{1}, \\  x_{2}, \\  x_{3}, \\  x_{4}, \\  x_{5}, \\  x_{6}, \\  x_{7}, \\  x_{8}, \\  x_{9}\\right)$"
      ],
      "text/plain": [
       "(x₀, x₁, x₂, x₃, x₄, x₅, x₆, x₇, x₈, x₉)"
      ]
     },
     "execution_count": 4,
     "metadata": {},
     "output_type": "execute_result"
    }
   ],
   "source": [
    "# 여러 개의 변수의 list 만들기\n",
    "x:10 = sympy.symbols('x:10', imaginary=True);x"
   ]
  },
  {
   "cell_type": "code",
   "execution_count": 5,
   "metadata": {},
   "outputs": [
    {
     "data": {
      "image/png": "[encoded data removed]",
      "text/latex": [
       "$\\displaystyle x_{1} + x_{2}$"
      ],
      "text/plain": [
       "x₁ + x₂"
      ]
     },
     "execution_count": 5,
     "metadata": {},
     "output_type": "execute_result"
    }
   ],
   "source": [
    "x[1] + x[2]"
   ]
  },
  {
   "cell_type": "code",
   "execution_count": 6,
   "metadata": {},
   "outputs": [],
   "source": [
    "w, x, y, z = sympy.symbols('w, x, y, z', real=True)"
   ]
  },
  {
   "cell_type": "markdown",
   "metadata": {},
   "source": [
    "#### 식??\n",
    "\n",
    "    sin, cos입력:\n",
    "    sympy.sin(x), sympy.cos(x)\n",
    "    \n",
    "    "
   ]
  },
  {
   "cell_type": "code",
   "execution_count": 7,
   "metadata": {},
   "outputs": [
    {
     "data": {
      "image/png": "[encoded data removed]",
      "text/latex": [
       "$\\displaystyle \\sin{\\left(x \\right)}$"
      ],
      "text/plain": [
       "sin(x)"
      ]
     },
     "execution_count": 7,
     "metadata": {},
     "output_type": "execute_result"
    }
   ],
   "source": [
    "sympy.sin(x)"
   ]
  },
  {
   "cell_type": "markdown",
   "metadata": {},
   "source": [
    "#### 수\n",
    "\n",
    "    float:\n",
    "    sympy.Float(a, 자릿수)\n",
    "    \n",
    "    분수: \n",
    "    sympy.Rational(a, b)"
   ]
  },
  {
   "cell_type": "code",
   "execution_count": 8,
   "metadata": {},
   "outputs": [
    {
     "data": {
      "image/png": "[encoded data removed]",
      "text/latex": [
       "$\\displaystyle 0.2999999999999999889$"
      ],
      "text/plain": [
       "0.29999999999999998890"
      ]
     },
     "execution_count": 8,
     "metadata": {},
     "output_type": "execute_result"
    }
   ],
   "source": [
    "sympy.N(0.3, 20)"
   ]
  },
  {
   "cell_type": "code",
   "execution_count": 9,
   "metadata": {},
   "outputs": [
    {
     "data": {
      "image/png": "[encoded data removed]",
      "text/latex": [
       "$\\displaystyle 0.2999999999999999889$"
      ],
      "text/plain": [
       "0.29999999999999998890"
      ]
     },
     "execution_count": 9,
     "metadata": {},
     "output_type": "execute_result"
    }
   ],
   "source": [
    "sympy.Float(0.3, 20)"
   ]
  },
  {
   "cell_type": "code",
   "execution_count": 10,
   "metadata": {},
   "outputs": [
    {
     "data": {
      "image/png": "[encoded data removed]",
      "text/latex": [
       "$\\displaystyle 0.3$"
      ],
      "text/plain": [
       "0.30000000000000000000"
      ]
     },
     "execution_count": 10,
     "metadata": {},
     "output_type": "execute_result"
    }
   ],
   "source": [
    "# 문자열 입력으로 정확한 소수 입력하기\n",
    "sympy.Float('0.3', 20)"
   ]
  },
  {
   "cell_type": "markdown",
   "metadata": {},
   "source": [
    "### 함수\n",
    "\n",
    "* 함수 만들기:\n",
    "    \n",
    "        f = sympy.function(\"f\")\n",
    "        g = sympy.Function(\"g\")(x, y, z)\n",
    "        h = sympy.Lambda((x, y,..), 관계식)\n",
    "    \n",
    "* 임의 수식을 함수로 만들기:\n",
    "    \n",
    "        sympy.lambdify((*args), expr)\n",
    "    \n",
    "numpy 함수로 만들기 위해서는:\n",
    "    \n",
    "    sympy.lambdify((*args), expr, 'numpy')\n",
    "        \n",
    "numpy말고도, 다른 module에서 쓰려는 함수면 그 module명을 입력하면 된다.\n",
    "    \n",
    "    f_mpmath = sympy.lambdify(x, f, 'mpmath')\n",
    "    \n",
    "* 함수의 독립변수 확인:\n",
    "    \n",
    "        f.free_symbols"
   ]
  },
  {
   "cell_type": "code",
   "execution_count": 11,
   "metadata": {},
   "outputs": [],
   "source": [
    "expr = sympy.sin(pi * x * sympy.exp(x))"
   ]
  },
  {
   "cell_type": "code",
   "execution_count": 12,
   "metadata": {},
   "outputs": [
    {
     "data": {
      "image/png": "[encoded data removed]",
      "text/latex": [
       "$\\displaystyle 0.773942685266709$"
      ],
      "text/plain": [
       "0.773942685266709"
      ]
     },
     "execution_count": 12,
     "metadata": {},
     "output_type": "execute_result"
    }
   ],
   "source": [
    "expr_func = sympy.lambdify(x, expr); expr_func(1.0)"
   ]
  },
  {
   "cell_type": "code",
   "execution_count": 13,
   "metadata": {},
   "outputs": [
    {
     "data": {
      "image/png": "[encoded data removed]",
      "text/latex": [
       "$\\displaystyle 0.773942685266709$"
      ],
      "text/plain": [
       "0.773942685266709"
      ]
     },
     "execution_count": 13,
     "metadata": {},
     "output_type": "execute_result"
    }
   ],
   "source": [
    "expr_func = sympy.lambdify(x, expr, 'numpy'); expr_func(1.0)"
   ]
  },
  {
   "cell_type": "code",
   "execution_count": 14,
   "metadata": {},
   "outputs": [],
   "source": [
    "?sympy.function"
   ]
  },
  {
   "cell_type": "markdown",
   "metadata": {},
   "source": [
    "### 식의 조작\n",
    "\n",
    "    간단히 하기: \n",
    "    sympy.simplify(expr)\n",
    "    expr.symplify()\n",
    "    \n",
    "    전개:\n",
    "    sympy.expand(expr)\n",
    "    sympy.expr.expand(어떤 식에 대해서(기준))\n",
    "    \n",
    "    인수분해:\n",
    "    sympy.factor(expr)\n",
    "    \n",
    "    합치기:\n",
    "    sympy.logcombine(sympy.log(x) - sympy.log(y))\n",
    "    \n",
    "    한 문자에 대해 정리:\n",
    "    expr.collect(x)\n",
    "    expr.collect([인수 list])\n",
    "    \n",
    "    부분분수 분해\n",
    "    sympy.apart(expr)\n",
    "    expr.apart()\n",
    "    \n",
    "    분수식의 결합:\n",
    "    sympy.together(expr)\n",
    "    expr.together()\n",
    "    \n",
    "    분수식의 통분:\n",
    "    sympy.cancel(expr)\n",
    "    expr.cancel()\n",
    "    \n",
    "    수식의 문자 치환:\n",
    "    expr.subs({x: 1.25, y: 0.4, z: 3.2}) 치환할 목록을 dictionary type로 입력"
   ]
  },
  {
   "cell_type": "code",
   "execution_count": 15,
   "metadata": {},
   "outputs": [
    {
     "data": {
      "image/png": "[encoded data removed]",
      "text/latex": [
       "$\\displaystyle \\sin{\\left(x \\right)} \\cos{\\left(y \\right)} + \\sin{\\left(y \\right)} \\cos{\\left(x \\right)}$"
      ],
      "text/plain": [
       "sin(x)⋅cos(y) + sin(y)⋅cos(x)"
      ]
     },
     "execution_count": 15,
     "metadata": {},
     "output_type": "execute_result"
    }
   ],
   "source": [
    "sympy.sin(x + y).expand(trig=True)"
   ]
  },
  {
   "cell_type": "code",
   "execution_count": 16,
   "metadata": {},
   "outputs": [
    {
     "data": {
      "image/png": "[encoded data removed]",
      "text/latex": [
       "$\\displaystyle \\log{\\left(x y \\right)}$"
      ],
      "text/plain": [
       "log(x⋅y)"
      ]
     },
     "execution_count": 16,
     "metadata": {},
     "output_type": "execute_result"
    }
   ],
   "source": [
    "sympy.log(x * y).expand(log=True)"
   ]
  },
  {
   "cell_type": "code",
   "execution_count": 17,
   "metadata": {},
   "outputs": [
    {
     "data": {
      "image/png": "[encoded data removed]",
      "text/latex": [
       "$\\displaystyle \\frac{x^{3} + x^{2} + 1}{x \\left(x - 1\\right) \\left(x^{2} + 1\\right)^{3} \\left(x^{2} + x + 1\\right)}$"
      ],
      "text/plain": [
       "           3    2               \n",
       "          x  + x  + 1           \n",
       "────────────────────────────────\n",
       "                  3             \n",
       "          ⎛ 2    ⎞  ⎛ 2        ⎞\n",
       "x⋅(x - 1)⋅⎝x  + 1⎠ ⋅⎝x  + x + 1⎠"
      ]
     },
     "execution_count": 17,
     "metadata": {},
     "output_type": "execute_result"
    }
   ],
   "source": [
    "expr = ((x**3) +  x**2 + 1)/(x*(x - 1)*(x**2 + x + 1)*((x**2 + 1)**3)); expr"
   ]
  },
  {
   "cell_type": "code",
   "execution_count": 18,
   "metadata": {},
   "outputs": [
    {
     "data": {
      "image/png": "[encoded data removed]",
      "text/latex": [
       "$\\displaystyle - \\frac{x - 1}{2 \\left(x^{2} + 1\\right)^{3}} - \\frac{x + 1}{x^{2} + x + 1} + \\frac{3 \\left(x + 1\\right)}{4 \\left(x^{2} + 1\\right)^{2}} + \\frac{15 x - 1}{8 \\left(x^{2} + 1\\right)} + \\frac{1}{8 \\left(x - 1\\right)} - \\frac{1}{x}$"
      ],
      "text/plain": [
       "     x - 1        x + 1       3⋅(x + 1)     15⋅x - 1        1       1\n",
       "- ─────────── - ────────── + ─────────── + ────────── + ───────── - ─\n",
       "            3    2                     2     ⎛ 2    ⎞   8⋅(x - 1)   x\n",
       "    ⎛ 2    ⎞    x  + x + 1     ⎛ 2    ⎞    8⋅⎝x  + 1⎠                \n",
       "  2⋅⎝x  + 1⎠                 4⋅⎝x  + 1⎠                              "
      ]
     },
     "execution_count": 18,
     "metadata": {},
     "output_type": "execute_result"
    }
   ],
   "source": [
    "expr2 = expr.apart(); expr2"
   ]
  },
  {
   "cell_type": "code",
   "execution_count": 19,
   "metadata": {},
   "outputs": [
    {
     "data": {
      "image/png": "[encoded data removed]",
      "text/latex": [
       "$\\displaystyle 12.090937981043$"
      ],
      "text/plain": [
       "12.0909379810430"
      ]
     },
     "execution_count": 19,
     "metadata": {},
     "output_type": "execute_result"
    }
   ],
   "source": [
    "expr2.subs(x, 1.01)"
   ]
  },
  {
   "cell_type": "code",
   "execution_count": 20,
   "metadata": {},
   "outputs": [
    {
     "data": {
      "image/png": "[encoded data removed]",
      "text/latex": [
       "$\\displaystyle \\cos{\\left(y e^{y} \\right)}$"
      ],
      "text/plain": [
       "   ⎛   y⎞\n",
       "cos⎝y⋅ℯ ⎠"
      ]
     },
     "execution_count": 20,
     "metadata": {},
     "output_type": "execute_result"
    }
   ],
   "source": [
    "sympy.sin(x * z).subs({z: sympy.exp(y), x: y, sympy.sin: sympy.cos})"
   ]
  },
  {
   "cell_type": "markdown",
   "metadata": {},
   "source": [
    "#### 수치 계산\n",
    "\n",
    "    sympy.N(숫자, 자리수)\n",
    "    (숫자).evalf(자리수)"
   ]
  },
  {
   "cell_type": "code",
   "execution_count": 21,
   "metadata": {},
   "outputs": [],
   "source": [
    "expr = sympy.sin(pi * x * sympy.exp(x))"
   ]
  },
  {
   "cell_type": "code",
   "execution_count": 22,
   "metadata": {},
   "outputs": [
    {
     "data": {
      "image/png": "[encoded data removed]",
      "text/latex": [
       "$\\displaystyle \\left[ 0, \\  0.774, \\  0.642, \\  0.722, \\  0.944, \\  0.205, \\  0.974, \\  0.977, \\  -0.87, \\  -0.695\\right]$"
      ],
      "text/plain": [
       "[0, 0.774, 0.642, 0.722, 0.944, 0.205, 0.974, 0.977, -0.87, -0.695]"
      ]
     },
     "execution_count": 22,
     "metadata": {},
     "output_type": "execute_result"
    }
   ],
   "source": [
    "[expr.subs(x, xx).evalf(3) for xx in range(0, 10)]"
   ]
  },
  {
   "cell_type": "code",
   "execution_count": 23,
   "metadata": {},
   "outputs": [
    {
     "data": {
      "text/plain": [
       "array([ 0.        ,  0.77394269,  0.64198244,  0.72163867,  0.94361635,\n",
       "        0.20523391,  0.97398794,  0.97734066, -0.87034418, -0.69512687])"
      ]
     },
     "execution_count": 23,
     "metadata": {},
     "output_type": "execute_result"
    }
   ],
   "source": [
    "expr_func = sympy.lambdify(x, expr, 'numpy')\n",
    "xvalues = np.arange(0, 10)\n",
    "expr_func(xvalues)"
   ]
  },
  {
   "cell_type": "markdown",
   "metadata": {},
   "source": [
    "### 미적분"
   ]
  },
  {
   "cell_type": "markdown",
   "metadata": {},
   "source": [
    "#### 도함수\n",
    "\n",
    "    함수 미분:\n",
    "    sysmpy.diff(함수, 변수, 미분할 횟수)\n",
    "    함수.diff(변수1, 미분할 횟수, 변수2, 미분할 횟수...)\n",
    "    \n",
    "    함수 미분한다고 보여주기:\n",
    "    sympy.Derivative(함수, 변수1, 미분할 횟수, 변수2, 미분할 횟수...)\n",
    "    "
   ]
  },
  {
   "cell_type": "code",
   "execution_count": 24,
   "metadata": {},
   "outputs": [
    {
     "data": {
      "image/png": "[encoded data removed]",
      "text/latex": [
       "$\\displaystyle \\frac{\\partial^{5}}{\\partial y^{2}\\partial x^{3}} g{\\left(x,y \\right)}$"
      ],
      "text/plain": [
       "    5           \n",
       "   ∂            \n",
       "───────(g(x, y))\n",
       "  2   3         \n",
       "∂y  ∂x          "
      ]
     },
     "execution_count": 24,
     "metadata": {},
     "output_type": "execute_result"
    }
   ],
   "source": [
    "g = sympy.Function('g')(x, y)\n",
    "g.diff(x, 3, y, 2)"
   ]
  },
  {
   "cell_type": "code",
   "execution_count": 25,
   "metadata": {},
   "outputs": [
    {
     "data": {
      "image/png": "[encoded data removed]",
      "text/latex": [
       "$\\displaystyle \\frac{\\partial^{3}}{\\partial x^{3}} g{\\left(x,y \\right)}$"
      ],
      "text/plain": [
       "  3         \n",
       " ∂          \n",
       "───(g(x, y))\n",
       "  3         \n",
       "∂x          "
      ]
     },
     "execution_count": 25,
     "metadata": {},
     "output_type": "execute_result"
    }
   ],
   "source": [
    "sympy.Derivative(g, x, 3)"
   ]
  },
  {
   "cell_type": "code",
   "execution_count": 26,
   "metadata": {},
   "outputs": [],
   "source": [
    "a, b, c, d = sympy.symbols(\"a, b, c, d\")"
   ]
  },
  {
   "cell_type": "markdown",
   "metadata": {},
   "source": [
    "#### 적분\n",
    "\n",
    "    함수 부정적분:\n",
    "    sympy.integrate(함수, 변수1, 변수2...)\n",
    "    함수.integrate(변수1, 변수2...)\n",
    "    \n",
    "    함수 정적분:\n",
    "    sympy.integrate(함수, (변수1, 시작, 끝), (변수2, 시작, 끝)...)\n",
    "    함수.integrate((변수1, 시작, 끝), (변수2, 시작, 끝)...)\n",
    "    \n",
    "    함수 적분한다고 보여주기:\n",
    "    sympy.Integral(함수, (변수1, 시작, 끝), (변수2, 시작, 끝)...)\n",
    "    "
   ]
  },
  {
   "cell_type": "code",
   "execution_count": 27,
   "metadata": {},
   "outputs": [
    {
     "data": {
      "image/png": "[encoded data removed]",
      "text/latex": [
       "$\\displaystyle \\iint g{\\left(x,y \\right)}\\, dx\\, dy$"
      ],
      "text/plain": [
       "⌠ ⌠              \n",
       "⎮ ⎮ g(x, y) dx dy\n",
       "⌡ ⌡              "
      ]
     },
     "execution_count": 27,
     "metadata": {},
     "output_type": "execute_result"
    }
   ],
   "source": [
    "sympy.integrate(g, x, y)"
   ]
  },
  {
   "cell_type": "code",
   "execution_count": 28,
   "metadata": {},
   "outputs": [
    {
     "data": {
      "image/png": "[encoded data removed]",
      "text/latex": [
       "$\\displaystyle \\int\\limits_{c}^{d}\\int\\limits_{a}^{b} g{\\left(x,y \\right)}\\, dx\\, dy$"
      ],
      "text/plain": [
       "d b              \n",
       "⌠ ⌠              \n",
       "⎮ ⎮ g(x, y) dx dy\n",
       "⌡ ⌡              \n",
       "c a              "
      ]
     },
     "execution_count": 28,
     "metadata": {},
     "output_type": "execute_result"
    }
   ],
   "source": [
    "sympy.integrate(g, (x, a, b), (y, c, d))"
   ]
  },
  {
   "cell_type": "code",
   "execution_count": 29,
   "metadata": {},
   "outputs": [
    {
     "data": {
      "image/png": "[encoded data removed]",
      "text/latex": [
       "$\\displaystyle \\int\\limits_{c}^{d}\\int\\limits_{a}^{b} g{\\left(x,y \\right)}\\, dx\\, dy$"
      ],
      "text/plain": [
       "d b              \n",
       "⌠ ⌠              \n",
       "⎮ ⎮ g(x, y) dx dy\n",
       "⌡ ⌡              \n",
       "c a              "
      ]
     },
     "execution_count": 29,
     "metadata": {},
     "output_type": "execute_result"
    }
   ],
   "source": [
    "g.integrate((x, a, b), (y, c, d))"
   ]
  },
  {
   "cell_type": "code",
   "execution_count": 30,
   "metadata": {},
   "outputs": [
    {
     "data": {
      "image/png": "[encoded data removed]",
      "text/latex": [
       "$\\displaystyle \\int\\limits_{c}^{d}\\int\\limits_{a}^{b} g{\\left(x,y \\right)}\\, dx\\, dy$"
      ],
      "text/plain": [
       "d b              \n",
       "⌠ ⌠              \n",
       "⎮ ⎮ g(x, y) dx dy\n",
       "⌡ ⌡              \n",
       "c a              "
      ]
     },
     "execution_count": 30,
     "metadata": {},
     "output_type": "execute_result"
    }
   ],
   "source": [
    "sympy.Integral(g,(x, a, b), (y, c, d))"
   ]
  },
  {
   "cell_type": "code",
   "execution_count": 31,
   "metadata": {},
   "outputs": [
    {
     "data": {
      "image/png": "[encoded data removed]",
      "text/latex": [
       "$\\displaystyle \\left( \\frac{x^{3}}{3} + x^{2} y + x y^{2}, \\  \\frac{x^{3} y}{3} + \\frac{x^{2} y^{2}}{2} + \\frac{x y^{3}}{3}\\right)$"
      ],
      "text/plain": [
       "⎛ 3                 3      2  2      3⎞\n",
       "⎜x     2        2  x ⋅y   x ⋅y    x⋅y ⎟\n",
       "⎜── + x ⋅y + x⋅y , ──── + ───── + ────⎟\n",
       "⎝3                  3       2      3  ⎠"
      ]
     },
     "execution_count": 31,
     "metadata": {},
     "output_type": "execute_result"
    }
   ],
   "source": [
    "expr = (x + y)**2\n",
    "A = sympy.integrate(expr, x)\n",
    "B = sympy.integrate(expr, x, y)\n",
    "A, B"
   ]
  },
  {
   "cell_type": "code",
   "execution_count": 32,
   "metadata": {},
   "outputs": [
    {
     "data": {
      "image/png": "[encoded data removed]",
      "text/latex": [
       "$\\displaystyle \\left( \\int\\limits_{0}^{1}\\int\\limits_{0}^{1} \\left(x + y\\right)^{2}\\, dx\\, dy, \\  \\frac{7}{6}\\right)$"
      ],
      "text/plain": [
       "⎛1 1                    ⎞\n",
       "⎜⌠ ⌠                    ⎟\n",
       "⎜⎮ ⎮        2           ⎟\n",
       "⎜⎮ ⎮ (x + y)  dx dy, 7/6⎟\n",
       "⎜⌡ ⌡                    ⎟\n",
       "⎝0 0                    ⎠"
      ]
     },
     "execution_count": 32,
     "metadata": {},
     "output_type": "execute_result"
    }
   ],
   "source": [
    "A = sympy.Integral(expr, (x, 0, 1), (y, 0, 1))\n",
    "B = sympy.integrate(expr, (x, 0, 1), (y, 0, 1))\n",
    "A, B"
   ]
  },
  {
   "cell_type": "markdown",
   "metadata": {},
   "source": [
    "### 극한\n",
    "\n",
    "    극한값 계산:\n",
    "    sympy.limit(함수, 변수, 극한값을 알고싶은 수)"
   ]
  },
  {
   "cell_type": "code",
   "execution_count": 33,
   "metadata": {},
   "outputs": [
    {
     "data": {
      "image/png": "[encoded data removed]",
      "text/latex": [
       "$\\displaystyle 1$"
      ],
      "text/plain": [
       "1"
      ]
     },
     "execution_count": 33,
     "metadata": {},
     "output_type": "execute_result"
    }
   ],
   "source": [
    "sympy.limit(sympy.sin(x)/x, x, 0)"
   ]
  },
  {
   "cell_type": "code",
   "execution_count": 34,
   "metadata": {},
   "outputs": [
    {
     "data": {
      "image/png": "[encoded data removed]",
      "text/latex": [
       "$\\displaystyle \\frac{- f{\\left(x \\right)} + f{\\left(h + x \\right)}}{h}$"
      ],
      "text/plain": [
       "-f(x) + f(h + x)\n",
       "────────────────\n",
       "       h        "
      ]
     },
     "execution_count": 34,
     "metadata": {},
     "output_type": "execute_result"
    }
   ],
   "source": [
    "f = sympy.Function('f')\n",
    "x, h = sympy.symbols(\"x, h\")\n",
    "diff_limit = (f(x + h) - f(x))/h\n",
    "diff_limit"
   ]
  },
  {
   "cell_type": "code",
   "execution_count": 35,
   "metadata": {},
   "outputs": [
    {
     "data": {
      "image/png": "[encoded data removed]",
      "text/latex": [
       "$\\displaystyle - \\sin{\\left(x \\right)}$"
      ],
      "text/plain": [
       "-sin(x)"
      ]
     },
     "execution_count": 35,
     "metadata": {},
     "output_type": "execute_result"
    }
   ],
   "source": [
    "sympy.limit(diff_limit.subs(f, sympy.cos), h, 0)"
   ]
  },
  {
   "cell_type": "markdown",
   "metadata": {},
   "source": [
    "### 수열의 합과 곱\n",
    "\n",
    "    수열의 합 나타내기:\n",
    "    sympy.Sum(일반항, (문자, 시작, 끝))\n",
    "    \n",
    "    수열의 곱 나타내기:\n",
    "    sympy.Product(일반항, (문자, 시작, 끝))"
   ]
  },
  {
   "cell_type": "code",
   "execution_count": 36,
   "metadata": {},
   "outputs": [
    {
     "data": {
      "image/png": "[encoded data removed]",
      "text/latex": [
       "$\\displaystyle \\left( \\sum_{n=1}^{\\infty} \\frac{1}{n^{2}}, \\  \\frac{\\pi^{2}}{6}\\right)$"
      ],
      "text/plain": [
       "⎛  ∞         ⎞\n",
       "⎜ ____       ⎟\n",
       "⎜ ╲          ⎟\n",
       "⎜  ╲   1    2⎟\n",
       "⎜   ╲  ──  π ⎟\n",
       "⎜   ╱   2, ──⎟\n",
       "⎜  ╱   n   6 ⎟\n",
       "⎜ ╱          ⎟\n",
       "⎜ ‾‾‾‾       ⎟\n",
       "⎝n = 1       ⎠"
      ]
     },
     "execution_count": 36,
     "metadata": {},
     "output_type": "execute_result"
    }
   ],
   "source": [
    "n = sympy.symbols(\"n\", integer = True)\n",
    "S = sympy.Sum(1/(n**2), (n, 1, oo))\n",
    "S, S.doit()"
   ]
  },
  {
   "cell_type": "code",
   "execution_count": 37,
   "metadata": {},
   "outputs": [
    {
     "data": {
      "image/png": "[encoded data removed]",
      "text/latex": [
       "$\\displaystyle \\left( \\prod_{n=1}^{7} n, \\  5040\\right)$"
      ],
      "text/plain": [
       "⎛  7          ⎞\n",
       "⎜─┬─┬─        ⎟\n",
       "⎜ │ │  n, 5040⎟\n",
       "⎜ │ │         ⎟\n",
       "⎝n = 1        ⎠"
      ]
     },
     "execution_count": 37,
     "metadata": {},
     "output_type": "execute_result"
    }
   ],
   "source": [
    "S = sympy.Product(n, (n, 1, 7))\n",
    "S, S.doit()"
   ]
  },
  {
   "cell_type": "code",
   "execution_count": 38,
   "metadata": {},
   "outputs": [
    {
     "data": {
      "image/png": "[encoded data removed]",
      "text/latex": [
       "$\\displaystyle \\left( \\sum_{n=1}^{\\infty} \\frac{x^{n}}{n!}, \\  x \\left(\\frac{e^{x}}{x} - \\frac{1}{x}\\right), \\  e^{x} - 1\\right)$"
      ],
      "text/plain": [
       "⎛  ∞                         ⎞\n",
       "⎜ ____                       ⎟\n",
       "⎜ ╲                          ⎟\n",
       "⎜  ╲    n    ⎛ x    ⎞        ⎟\n",
       "⎜   ╲  x     ⎜ℯ    1⎟   x    ⎟\n",
       "⎜   ╱  ──, x⋅⎜── - ─⎟, ℯ  - 1⎟\n",
       "⎜  ╱   n!    ⎝x    x⎠        ⎟\n",
       "⎜ ╱                          ⎟\n",
       "⎜ ‾‾‾‾                       ⎟\n",
       "⎝n = 1                       ⎠"
      ]
     },
     "execution_count": 38,
     "metadata": {},
     "output_type": "execute_result"
    }
   ],
   "source": [
    "S = sympy.Sum((x)**n/(sympy.factorial(n)), (n, 1, oo))\n",
    "S, S.doit(), S.doit().simplify()"
   ]
  },
  {
   "cell_type": "markdown",
   "metadata": {},
   "source": [
    "### 방정식\n",
    "\n",
    "* 한 문자에 대한 방정식 풀이:\n",
    "        \n",
    "        sympy.solve(expr):\n",
    "        expr=0 꼴의 방정식을 푼다. \n",
    "    \n",
    "* 여러 문자에 대한 방정식 풀이:\n",
    "    \n",
    "        sympy.soive([eq1, eq2,..], [변수1, 변수2...], dict=True)\n",
    "        dict=True를 입력하지 않으면, 문자는 출력되지 않고 해들의 순서쌍만 출력된다. "
   ]
  },
  {
   "cell_type": "code",
   "execution_count": 39,
   "metadata": {},
   "outputs": [
    {
     "data": {
      "image/png": "[encoded data removed]",
      "text/latex": [
       "$\\displaystyle \\left[ \\frac{- b + \\sqrt{- 4 a c + b^{2}}}{2 a}, \\  - \\frac{b + \\sqrt{- 4 a c + b^{2}}}{2 a}\\right]$"
      ],
      "text/plain": [
       "⎡        _____________   ⎛       _____________⎞ ⎤\n",
       "⎢       ╱           2    ⎜      ╱           2 ⎟ ⎥\n",
       "⎢-b + ╲╱  -4⋅a⋅c + b    -⎝b + ╲╱  -4⋅a⋅c + b  ⎠ ⎥\n",
       "⎢─────────────────────, ────────────────────────⎥\n",
       "⎣         2⋅a                     2⋅a           ⎦"
      ]
     },
     "execution_count": 39,
     "metadata": {},
     "output_type": "execute_result"
    }
   ],
   "source": [
    "x, y = sympy.symbols(\"x, y\")\n",
    "a, b, c = sympy.symbols(\"a, b, c\")\n",
    "sympy.solve(a * x**2 + b * x + c, x)"
   ]
  },
  {
   "cell_type": "code",
   "execution_count": 40,
   "metadata": {},
   "outputs": [
    {
     "data": {
      "image/png": "[encoded data removed]",
      "text/latex": [
       "$\\displaystyle \\left[ \\left\\{ x : - \\frac{1}{3}, \\  y : \\frac{2}{3}\\right\\}\\right]$"
      ],
      "text/plain": [
       "[{x: -1/3, y: 2/3}]"
      ]
     },
     "execution_count": 40,
     "metadata": {},
     "output_type": "execute_result"
    }
   ],
   "source": [
    "eq1 = x + 2 * y - 1\n",
    "eq2 = x - y + 1\n",
    "sympy.solve([eq1, eq2], [x, y], dict=True)"
   ]
  },
  {
   "cell_type": "code",
   "execution_count": 41,
   "metadata": {},
   "outputs": [
    {
     "data": {
      "image/png": "[encoded data removed]",
      "text/latex": [
       "$\\displaystyle \\left[ \\left\\{ x : 0, \\  y : 0\\right\\}, \\  \\left\\{ x : 1, \\  y : 1\\right\\}, \\  \\left\\{ x : \\left(- \\frac{1}{2} - \\frac{\\sqrt{3} i}{2}\\right)^{2}, \\  y : - \\frac{1}{2} - \\frac{\\sqrt{3} i}{2}\\right\\}, \\  \\left\\{ x : \\left(- \\frac{1}{2} + \\frac{\\sqrt{3} i}{2}\\right)^{2}, \\  y : - \\frac{1}{2} + \\frac{\\sqrt{3} i}{2}\\right\\}\\right]$"
      ],
      "text/plain": [
       "⎡                            ⎧               2               ⎫  ⎧             \n",
       "⎢                            ⎪   ⎛  1   √3⋅ⅈ⎞        1   √3⋅ⅈ⎪  ⎪   ⎛  1   √3⋅\n",
       "⎢{x: 0, y: 0}, {x: 1, y: 1}, ⎨x: ⎜- ─ - ────⎟ , y: - ─ - ────⎬, ⎨x: ⎜- ─ + ───\n",
       "⎢                            ⎪   ⎝  2    2  ⎠        2    2  ⎪  ⎪   ⎝  2    2 \n",
       "⎣                            ⎩                               ⎭  ⎩             \n",
       "\n",
       "  2               ⎫⎤\n",
       "ⅈ⎞        1   √3⋅ⅈ⎪⎥\n",
       "─⎟ , y: - ─ + ────⎬⎥\n",
       " ⎠        2    2  ⎪⎥\n",
       "                  ⎭⎦"
      ]
     },
     "execution_count": 41,
     "metadata": {},
     "output_type": "execute_result"
    }
   ],
   "source": [
    "eq1 = x**2 - y\n",
    "eq2 = y**2 - x\n",
    "sols = sympy.solve([eq1, eq2], [x, y], dict=True); sols"
   ]
  },
  {
   "cell_type": "code",
   "execution_count": 42,
   "metadata": {},
   "outputs": [
    {
     "data": {
      "image/png": "[encoded data removed]",
      "text/latex": [
       "$\\displaystyle \\left[ \\left( 0, \\  0\\right), \\  \\left( 1, \\  1\\right), \\  \\left( \\left(- \\frac{1}{2} - \\frac{\\sqrt{3} i}{2}\\right)^{2}, \\  - \\frac{1}{2} - \\frac{\\sqrt{3} i}{2}\\right), \\  \\left( \\left(- \\frac{1}{2} + \\frac{\\sqrt{3} i}{2}\\right)^{2}, \\  - \\frac{1}{2} + \\frac{\\sqrt{3} i}{2}\\right)\\right]$"
      ],
      "text/plain": [
       "⎡                ⎛            2            ⎞  ⎛            2            ⎞⎤\n",
       "⎢                ⎜⎛  1   √3⋅ⅈ⎞     1   √3⋅ⅈ⎟  ⎜⎛  1   √3⋅ⅈ⎞     1   √3⋅ⅈ⎟⎥\n",
       "⎢(0, 0), (1, 1), ⎜⎜- ─ - ────⎟ , - ─ - ────⎟, ⎜⎜- ─ + ────⎟ , - ─ + ────⎟⎥\n",
       "⎣                ⎝⎝  2    2  ⎠     2    2  ⎠  ⎝⎝  2    2  ⎠     2    2  ⎠⎦"
      ]
     },
     "execution_count": 42,
     "metadata": {},
     "output_type": "execute_result"
    }
   ],
   "source": [
    "sols = sympy.solve([eq1, eq2], [x, y]); sols"
   ]
  },
  {
   "cell_type": "markdown",
   "metadata": {},
   "source": [
    "### 선형대수\n",
    "\n",
    "* 행렬의 입력\n",
    "\n",
    "        sympy.Matrix([a, b...]) 이처럼 입력하면 열벡터가 출력된다.\n",
    "        sympy.Matrix([[a, b...]]) 이처럼 입력하면 행벡터가 출력된다. \n",
    "        sympy.Matrix([[low vector1], [low vector2]...])\n",
    "\n",
    "    \n",
    "* lambda 함수를 이용한 입력:\n",
    "\n",
    "        sympy.Matrix(low number, column number, lambda m,n:expr)\n",
    "    \n",
    "* 행렬의 곱:\n",
    "\n",
    "        M*N (단, M과 N 모두 sympy.Matrix 인스턴스여야 한다.)\n",
    "numpy instance로 입력한 경우는 np.dot(A, B) 또는 A.dot(B)였다. \n",
    "\n",
    "    \n",
    "* 역행렬:\n",
    "        \n",
    "        M.inv()\n",
    "numpy instance로 입력한 경우는 np.linalg.inv(M)\n",
    "\n",
    "\n",
    "* 전치행렬:\n",
    "        \n",
    "        M.T\n",
    "numpy instance 인 경우도 M.T \n",
    "\n",
    "\n",
    "* Norm:\n",
    "        \n",
    "        M.norm()\n",
    "numpy instance로 입력한 경우는 np.linalg.norm(M)"
   ]
  },
  {
   "cell_type": "code",
   "execution_count": 43,
   "metadata": {},
   "outputs": [
    {
     "data": {
      "text/latex": [
       "$\\displaystyle \\left[ \\left[\\begin{matrix}a^{2} + b c & a b + b d\\\\a c + c d & b c + d^{2}\\end{matrix}\\right], \\  \\left[\\begin{matrix}\\frac{d}{a d - b c} & - \\frac{b}{a d - b c}\\\\- \\frac{c}{a d - b c} & \\frac{a}{a d - b c}\\end{matrix}\\right], \\  \\left[\\begin{matrix}a & c\\\\b & d\\end{matrix}\\right], \\  \\sqrt{\\left|{a}\\right|^{2} + \\left|{b}\\right|^{2} + \\left|{c}\\right|^{2} + \\left|{d}\\right|^{2}}\\right]$"
      ],
      "text/plain": [
       "⎡                        ⎡    d         -b    ⎤                               \n",
       "⎢⎡ 2                  ⎤  ⎢─────────  ─────────⎥             __________________\n",
       "⎢⎢a  + b⋅c   a⋅b + b⋅d⎥  ⎢a⋅d - b⋅c  a⋅d - b⋅c⎥  ⎡a  c⎤    ╱    2      2      \n",
       "⎢⎢                    ⎥, ⎢                    ⎥, ⎢    ⎥, ╲╱  │a│  + │b│  + │c│\n",
       "⎢⎢                  2 ⎥  ⎢   -c          a    ⎥  ⎣b  d⎦                       \n",
       "⎢⎣a⋅c + c⋅d  b⋅c + d  ⎦  ⎢─────────  ─────────⎥                               \n",
       "⎣                        ⎣a⋅d - b⋅c  a⋅d - b⋅c⎦                               \n",
       "\n",
       "         ⎤\n",
       "_________⎥\n",
       "2      2 ⎥\n",
       "  + │d│  ⎥\n",
       "         ⎥\n",
       "         ⎥\n",
       "         ⎦"
      ]
     },
     "execution_count": 43,
     "metadata": {},
     "output_type": "execute_result"
    }
   ],
   "source": [
    "a, b, c, d = sympy.symbols(\"a, b, c, d\")\n",
    "M = sympy.Matrix([[a, b], [c, d]]);M\n",
    "[M*M, M.inv(), M.T, M.norm()]"
   ]
  },
  {
   "cell_type": "code",
   "execution_count": 44,
   "metadata": {},
   "outputs": [
    {
     "data": {
      "text/plain": [
       "[array([[ 7, 10],\n",
       "        [15, 22]]),\n",
       " array([[-2. ,  1. ],\n",
       "        [ 1.5, -0.5]]),\n",
       " array([[1, 3],\n",
       "        [2, 4]]),\n",
       " 5.477225575051661]"
      ]
     },
     "execution_count": 44,
     "metadata": {},
     "output_type": "execute_result"
    }
   ],
   "source": [
    "N = np.array([[1, 2], [3, 4]]);N\n",
    "'''\n",
    "numpy array로는 숫자를 입력해야 한다. \n",
    "symbolic연산은 sympy module 전용. \n",
    "또한, 그냥 linalg module을 추가로 이용한다고 생각하면 된다.\n",
    "'''\n",
    "[np.dot(N, N), np.linalg.inv(N),N.T, np.linalg.norm(N)]"
   ]
  },
  {
   "cell_type": "markdown",
   "metadata": {},
   "source": [
    "### Mx = b 꼴의 방정식 풀이\n",
    "\n",
    "    LU decomposition을 이용한 풀이:\n",
    "    x = M.LUsolve(b)\n",
    "    \n",
    "    역행렬 곱을 이용한 풀이:\n",
    "    x = M.inv() * b"
   ]
  },
  {
   "cell_type": "code",
   "execution_count": 46,
   "metadata": {},
   "outputs": [
    {
     "data": {
      "text/latex": [
       "$\\displaystyle \\left[\\begin{matrix}b_{1}\\\\b_{2}\\end{matrix}\\right]$"
      ],
      "text/plain": [
       "⎡b₁⎤\n",
       "⎢  ⎥\n",
       "⎣b₂⎦"
      ]
     },
     "execution_count": 46,
     "metadata": {},
     "output_type": "execute_result"
    }
   ],
   "source": [
    "b = sympy.Matrix(sympy.symbols('b_1, b_2')); b\n",
    "# sympy.symbols의 결과가 하나의 list이므로 이를 입력한 결과는 열벡터이다. "
   ]
  },
  {
   "cell_type": "code",
   "execution_count": 48,
   "metadata": {},
   "outputs": [
    {
     "data": {
      "text/latex": [
       "$\\displaystyle \\left( \\left[\\begin{matrix}\\frac{- \\frac{b \\left(b_{2} - \\frac{b_{1} c}{a}\\right)}{d - \\frac{b c}{a}} + b_{1}}{a}\\\\\\frac{b_{2} - \\frac{b_{1} c}{a}}{d - \\frac{b c}{a}}\\end{matrix}\\right], \\  \\left[\\begin{matrix}- \\frac{b b_{2}}{a d - b c} + \\frac{b_{1} d}{a d - b c}\\\\\\frac{a b_{2}}{a d - b c} - \\frac{b_{1} c}{a d - b c}\\end{matrix}\\right]\\right)$"
      ],
      "text/plain": [
       "⎛⎡    ⎛     b₁⋅c⎞     ⎤                           ⎞\n",
       "⎜⎢  b⋅⎜b₂ - ────⎟     ⎥                           ⎟\n",
       "⎜⎢    ⎝      a  ⎠     ⎥                           ⎟\n",
       "⎜⎢- ───────────── + b₁⎥                           ⎟\n",
       "⎜⎢         b⋅c        ⎥                           ⎟\n",
       "⎜⎢     d - ───        ⎥  ⎡     b⋅b₂        b₁⋅d  ⎤⎟\n",
       "⎜⎢          a         ⎥  ⎢- ───────── + ─────────⎥⎟\n",
       "⎜⎢────────────────────⎥  ⎢  a⋅d - b⋅c   a⋅d - b⋅c⎥⎟\n",
       "⎜⎢         a          ⎥, ⎢                       ⎥⎟\n",
       "⎜⎢                    ⎥  ⎢    a⋅b₂        b₁⋅c   ⎥⎟\n",
       "⎜⎢          b₁⋅c      ⎥  ⎢ ───────── - ───────── ⎥⎟\n",
       "⎜⎢     b₂ - ────      ⎥  ⎣ a⋅d - b⋅c   a⋅d - b⋅c ⎦⎟\n",
       "⎜⎢           a        ⎥                           ⎟\n",
       "⎜⎢     ─────────      ⎥                           ⎟\n",
       "⎜⎢          b⋅c       ⎥                           ⎟\n",
       "⎜⎢      d - ───       ⎥                           ⎟\n",
       "⎝⎣           a        ⎦                           ⎠"
      ]
     },
     "execution_count": 48,
     "metadata": {},
     "output_type": "execute_result"
    }
   ],
   "source": [
    "x1 = M.LUsolve(b)\n",
    "x2 = M.inv() * b\n",
    "x1, x2"
   ]
  }
 ],
 "metadata": {
  "kernelspec": {
   "display_name": "Python 3",
   "language": "python",
   "name": "python3"
  },
  "language_info": {
   "codemirror_mode": {
    "name": "ipython",
    "version": 3
   },
   "file_extension": ".py",
   "mimetype": "text/x-python",
   "name": "python",
   "nbconvert_exporter": "python",
   "pygments_lexer": "ipython3",
   "version": "3.7.6"
  }
 },
 "nbformat": 4,
 "nbformat_minor": 4
}
